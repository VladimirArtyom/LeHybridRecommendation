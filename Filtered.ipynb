{
 "cells": [
  {
   "cell_type": "code",
   "execution_count": 1,
   "metadata": {},
   "outputs": [
    {
     "name": "stderr",
     "output_type": "stream",
     "text": [
      "/tmp/ipykernel_17193/2885384178.py:16: FutureWarning: The behavior of DataFrame concatenation with empty or all-NA entries is deprecated. In a future version, this will no longer exclude empty or all-NA columns when determining the result dtypes. To retain the old behavior, exclude the relevant entries before the concat operation.\n",
      "  dfRecipeFiltered = pd.concat([dfRecipeFiltered, rowRecipe])\n"
     ]
    }
   ],
   "source": [
    "import pandas as pd\n",
    "import numpy as np\n",
    "def getFilteredRecipes(datasetPathReviews: str, datasetPathRecipes: str):\n",
    "    dfRecipes = pd.read_csv(datasetPathRecipes)\n",
    "    dfReviews = pd.read_csv(datasetPathReviews)\n",
    "    \n",
    "    dfRecipeFiltered = pd.DataFrame(columns=dfRecipes.columns)\n",
    "    recipeIDList = []\n",
    "    for indx, column in dfReviews.iterrows():\n",
    "        recipeID = column[\"RecipeId\"] \n",
    "        if recipeID not in recipeIDList:\n",
    "            rowRecipe = dfRecipes.loc[dfRecipes[\"RecipeId\"] == recipeID]\n",
    "            recipeIDList.append(recipeID)\n",
    "        else:\n",
    "            continue\n",
    "        dfRecipeFiltered = pd.concat([dfRecipeFiltered, rowRecipe])\n",
    "    return dfRecipeFiltered\n",
    "def appendRandomRecipes(filteredRecipes, oldRecipes, howMuch):\n",
    "    filteredRecipes = pd.concat([filteredRecipes, oldRecipes.sample(n=howMuch)])\n",
    "    return filteredRecipes\n",
    "\n",
    "sb = getFilteredRecipes(\"reviews_filtered.csv\", \"recipes.csv\")"
   ]
  },
  {
   "cell_type": "code",
   "execution_count": 2,
   "metadata": {},
   "outputs": [
    {
     "data": {
      "text/plain": [
       "(2517, 28)"
      ]
     },
     "execution_count": 2,
     "metadata": {},
     "output_type": "execute_result"
    }
   ],
   "source": [
    "sb.shape"
   ]
  },
  {
   "cell_type": "code",
   "execution_count": 3,
   "metadata": {},
   "outputs": [],
   "source": [
    "np.random.seed(0)\n",
    "sbNew = appendRandomRecipes(sb, pd.read_csv(\"recipes.csv\"), 7000)"
   ]
  },
  {
   "cell_type": "code",
   "execution_count": 4,
   "metadata": {},
   "outputs": [
    {
     "data": {
      "text/plain": [
       "(9490, 28)"
      ]
     },
     "execution_count": 4,
     "metadata": {},
     "output_type": "execute_result"
    }
   ],
   "source": [
    "sbNew.drop_duplicates(inplace=True)\n",
    "sbNew.shape"
   ]
  },
  {
   "cell_type": "code",
   "execution_count": 6,
   "metadata": {},
   "outputs": [],
   "source": [
    "sbNew.to_csv(\"recipes_filtered.csv\", index=False)"
   ]
  }
 ],
 "metadata": {
  "kernelspec": {
   "display_name": "universal",
   "language": "python",
   "name": "python3"
  },
  "language_info": {
   "codemirror_mode": {
    "name": "ipython",
    "version": 3
   },
   "file_extension": ".py",
   "mimetype": "text/x-python",
   "name": "python",
   "nbconvert_exporter": "python",
   "pygments_lexer": "ipython3",
   "version": "3.9.19"
  }
 },
 "nbformat": 4,
 "nbformat_minor": 2
}
