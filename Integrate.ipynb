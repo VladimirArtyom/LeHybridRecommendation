{
 "cells": [
  {
   "cell_type": "code",
   "execution_count": 116,
   "metadata": {},
   "outputs": [],
   "source": [
    "import importlib\n",
    "import Integrate_ContentRC\n",
    "import Integrate_SurpriseCollaborativeRC\n",
    "import Integrate_DeepLearningCollaborativeRC\n",
    "import numpy as np\n",
    "importlib.reload(Integrate_ContentRC)\n",
    "importlib.reload(Integrate_SurpriseCollaborativeRC)\n",
    "importlib.reload(Integrate_DeepLearningCollaborativeRC)\n",
    "\n",
    "\n",
    "from Integrate_DeepLearningCollaborativeRC import EmbeddingNetwork, DeepLearningCollaborativeBasedRecommender\n",
    "from Integrate_SurpriseCollaborativeRC import SurpriseCollaborativeBasedRecommender\n",
    "from Integrate_ContentRC import ContentBasedEnum\n",
    "from Integrate_ContentRC import ContentBasedRecommender\n",
    "from typing import List, Tuple\n",
    "\n",
    "np.random.seed(0)"
   ]
  },
  {
   "cell_type": "code",
   "execution_count": null,
   "metadata": {},
   "outputs": [],
   "source": []
  },
  {
   "cell_type": "code",
   "execution_count": 117,
   "metadata": {},
   "outputs": [],
   "source": [
    "datasetPathReviews: str = \"reviews_filtered.csv\"\n",
    "useCols: List[str] = [\"RecipeId\", \"AuthorId\", \"Rating\"]\n",
    "targetAlign: List[str] = [\"AuthorId\", \"RecipeId\", \"Rating\"]\n",
    "ratingScale: Tuple = (1, 5)\n",
    "measures: List[str] = [\"RMSE\"]\n",
    "weights: List[float] = [0.24, 0.41]"
   ]
  },
  {
   "cell_type": "code",
   "execution_count": 118,
   "metadata": {},
   "outputs": [],
   "source": [
    "column_of_interest = [\"Name\", \"Description\", \"RecipeCategory\",\n",
    "                        \"TotalTime\", \"AuthorName\", \"RecipeInstructions\",\n",
    "                        \"Keywords\"]\n",
    "datasetPath: str = \"recipes_filtered.csv\"\n",
    "glove_file: str = \"Embeddings/glove.6B.50d.txt\"    \n",
    "modelName: str = \"all-MiniLM-L12-v2\""
   ]
  },
  {
   "cell_type": "code",
   "execution_count": 119,
   "metadata": {},
   "outputs": [
    {
     "name": "stderr",
     "output_type": "stream",
     "text": [
      "/mnt/Development-Main/Xor/githubProjects/python/sisrek/tubes/Integrate_DeepLearningCollaborativeRC.py:115: UserWarning: nn.init.xavier_uniform is now deprecated in favor of nn.init.xavier_uniform_.\n",
      "  torch.nn.init.xavier_uniform(layer.weight)\n"
     ]
    },
    {
     "name": "stdout",
     "output_type": "stream",
     "text": [
      "Loss getting better on epoch 1\n",
      "[001/005] train: 1.7875 - val: 2.5388\n",
      "Loss getting better on epoch 2\n",
      "[002/005] train: 1.4556 - val: 2.2893\n",
      "Loss getting better on epoch 3\n",
      "[003/005] train: 1.4426 - val: 2.2274\n",
      "Loss getting better on epoch 4\n",
      "[004/005] train: 1.3439 - val: 2.2028\n",
      "[005/005] train: 1.3106 - val: 2.2326\n",
      "Final RMSE: 0.0973\n",
      "tensor([412, 412, 412,  ..., 412, 412, 412])\n",
      "0         0\n",
      "1         1\n",
      "2         2\n",
      "3         3\n",
      "4         4\n",
      "       ... \n",
      "4005    696\n",
      "4006    696\n",
      "4007    696\n",
      "4008    696\n",
      "4009    696\n",
      "Name: newRecipeId, Length: 4010, dtype: int64\n"
     ]
    }
   ],
   "source": [
    "DLCollaborative = DeepLearningCollaborativeBasedRecommender(datasetPathReviews, useCols)\n",
    "DLCollaborative.alignDataset(targetAlign)\n",
    "DLCollaborative.createDataset()\n",
    "DLCollaborative.splitDataset(0.1)\n",
    "DLCollaborative.setupNetwork(150)\n",
    "modelDict, history, lrHistory = DLCollaborative.trainNetwork(epochs=5)\n",
    "DLCollaborative.modelRMSE(\"cpu\")\n",
    "rec = DLCollaborative.getRecommendation(412, 5)"
   ]
  },
  {
   "cell_type": "code",
   "execution_count": 121,
   "metadata": {},
   "outputs": [
    {
     "data": {
      "text/html": [
       "<div>\n",
       "<style scoped>\n",
       "    .dataframe tbody tr th:only-of-type {\n",
       "        vertical-align: middle;\n",
       "    }\n",
       "\n",
       "    .dataframe tbody tr th {\n",
       "        vertical-align: top;\n",
       "    }\n",
       "\n",
       "    .dataframe thead th {\n",
       "        text-align: right;\n",
       "    }\n",
       "</style>\n",
       "<table border=\"1\" class=\"dataframe\">\n",
       "  <thead>\n",
       "    <tr style=\"text-align: right;\">\n",
       "      <th></th>\n",
       "      <th>recipeId</th>\n",
       "      <th>pred</th>\n",
       "    </tr>\n",
       "  </thead>\n",
       "  <tbody>\n",
       "    <tr>\n",
       "      <th>755</th>\n",
       "      <td>56</td>\n",
       "      <td>4.788732</td>\n",
       "    </tr>\n",
       "    <tr>\n",
       "      <th>1513</th>\n",
       "      <td>1041</td>\n",
       "      <td>4.753612</td>\n",
       "    </tr>\n",
       "    <tr>\n",
       "      <th>2106</th>\n",
       "      <td>1292</td>\n",
       "      <td>4.736423</td>\n",
       "    </tr>\n",
       "    <tr>\n",
       "      <th>1404</th>\n",
       "      <td>632</td>\n",
       "      <td>4.734728</td>\n",
       "    </tr>\n",
       "    <tr>\n",
       "      <th>1339</th>\n",
       "      <td>943</td>\n",
       "      <td>4.727441</td>\n",
       "    </tr>\n",
       "    <tr>\n",
       "      <th>...</th>\n",
       "      <td>...</td>\n",
       "      <td>...</td>\n",
       "    </tr>\n",
       "    <tr>\n",
       "      <th>643</th>\n",
       "      <td>7</td>\n",
       "      <td>3.951718</td>\n",
       "    </tr>\n",
       "    <tr>\n",
       "      <th>1070</th>\n",
       "      <td>752</td>\n",
       "      <td>3.928298</td>\n",
       "    </tr>\n",
       "    <tr>\n",
       "      <th>2385</th>\n",
       "      <td>1549</td>\n",
       "      <td>3.921664</td>\n",
       "    </tr>\n",
       "    <tr>\n",
       "      <th>1422</th>\n",
       "      <td>939</td>\n",
       "      <td>3.914929</td>\n",
       "    </tr>\n",
       "    <tr>\n",
       "      <th>2547</th>\n",
       "      <td>1654</td>\n",
       "      <td>3.912620</td>\n",
       "    </tr>\n",
       "  </tbody>\n",
       "</table>\n",
       "<p>4010 rows × 2 columns</p>\n",
       "</div>"
      ],
      "text/plain": [
       "      recipeId      pred\n",
       "755         56  4.788732\n",
       "1513      1041  4.753612\n",
       "2106      1292  4.736423\n",
       "1404       632  4.734728\n",
       "1339       943  4.727441\n",
       "...        ...       ...\n",
       "643          7  3.951718\n",
       "1070       752  3.928298\n",
       "2385      1549  3.921664\n",
       "1422       939  3.914929\n",
       "2547      1654  3.912620\n",
       "\n",
       "[4010 rows x 2 columns]"
      ]
     },
     "execution_count": 121,
     "metadata": {},
     "output_type": "execute_result"
    }
   ],
   "source": [
    "rec.sort_values(\"pred\", ascending=False)"
   ]
  },
  {
   "cell_type": "code",
   "execution_count": 14,
   "metadata": {},
   "outputs": [
    {
     "data": {
      "text/plain": [
       "AuthorId       8602\n",
       "RecipeId         83\n",
       "Rating            5\n",
       "newAuthorId     412\n",
       "newRecipeId     389\n",
       "Name: 502, dtype: int64"
      ]
     },
     "execution_count": 14,
     "metadata": {},
     "output_type": "execute_result"
    }
   ],
   "source": [
    "DLCollaborative.df.iloc[502, :]"
   ]
  },
  {
   "cell_type": "code",
   "execution_count": 134,
   "metadata": {},
   "outputs": [
    {
     "name": "stdout",
     "output_type": "stream",
     "text": [
      "Optimizer Weights [0.86784429 0.17221314]\n",
      "Optimizer Weights [0.18636341 0.19741862]\n"
     ]
    },
    {
     "data": {
      "text/plain": [
       "([Prediction(uid=412, iid=5090, r_ui=None, est=4.639861378157691, details={'was_impossible': False}),\n",
       "  Prediction(uid=412, iid=9869, r_ui=None, est=4.637928692731506, details={'was_impossible': False}),\n",
       "  Prediction(uid=412, iid=10404, r_ui=None, est=4.530287878982761, details={'was_impossible': False}),\n",
       "  Prediction(uid=412, iid=13021, r_ui=None, est=4.520343018229543, details={'was_impossible': False}),\n",
       "  Prediction(uid=412, iid=4384, r_ui=None, est=4.470554279726398, details={'was_impossible': False})],\n",
       " [Prediction(uid=412, iid=4627, r_ui=None, est=5, details={'was_impossible': False}),\n",
       "  Prediction(uid=412, iid=8679, r_ui=None, est=5, details={'was_impossible': False}),\n",
       "  Prediction(uid=412, iid=8627, r_ui=None, est=5, details={'was_impossible': False}),\n",
       "  Prediction(uid=412, iid=5090, r_ui=None, est=5, details={'was_impossible': False}),\n",
       "  Prediction(uid=412, iid=3288, r_ui=None, est=5, details={'was_impossible': False})])"
      ]
     },
     "execution_count": 134,
     "metadata": {},
     "output_type": "execute_result"
    }
   ],
   "source": [
    "surpriseCF = SurpriseCollaborativeBasedRecommender(datasetPathReviews, ratingScale,\n",
    "                                                    useCols, measures)\n",
    "surpriseCF.alignDataset(targetAlign)\n",
    "surpriseCF.splitDataset()\n",
    "surpriseCF.fit(0.5, 0.5)\n",
    "surpriseCF.getRecommendations(412, 5)\n"
   ]
  },
  {
   "cell_type": "code",
   "execution_count": 2,
   "metadata": {},
   "outputs": [
    {
     "name": "stderr",
     "output_type": "stream",
     "text": [
      "/mnt/Development-Main/Xor/githubProjects/python/sisrek/tubes/Integrate_ContentRC.py:46: FutureWarning: Setting an item of incompatible dtype is deprecated and will raise an error in a future version of pandas. Value '[]' has dtype incompatible with float64, please explicitly cast to a compatible dtype first.\n",
      "  self.df.fillna(\"[]\", inplace=True)\n",
      "/mnt/Dev_partition/anaconda3/envs/universal/lib/python3.9/site-packages/huggingface_hub/file_download.py:1132: FutureWarning: `resume_download` is deprecated and will be removed in version 1.0.0. Downloads always resume when possible. If you want to force a new download, use `force_download=True`.\n",
      "  warnings.warn(\n"
     ]
    },
    {
     "name": "stdout",
     "output_type": "stream",
     "text": [
      "Setup Completed\n"
     ]
    }
   ],
   "source": [
    "contentBased = ContentBasedRecommender(datasetPath, column_of_interest)\n",
    "contentBased.preprocess_dataset()\n",
    "contentBased.prepareRecipeIndices(\"Name\")\n",
    "contentBased.setup(glove_file, modelName)"
   ]
  },
  {
   "cell_type": "code",
   "execution_count": 3,
   "metadata": {},
   "outputs": [
    {
     "name": "stdout",
     "output_type": "stream",
     "text": [
      "Similarity matrix is generated!\n",
      "(9529, 9529)\n",
      "(9529, 9529)\n",
      "(9529, 9529)\n",
      "(9529, 9529)\n"
     ]
    }
   ],
   "source": [
    "contentBased.fit(\"contents\", \"contents_metadata\", )\n",
    "contentBased.calculate_similarity()"
   ]
  },
  {
   "cell_type": "code",
   "execution_count": 6,
   "metadata": {},
   "outputs": [
    {
     "data": {
      "text/plain": [
       "[1, 2962, 2785, 8735, 89, 441, 7489, 1937, 7056, 8661]"
      ]
     },
     "execution_count": 6,
     "metadata": {},
     "output_type": "execute_result"
    }
   ],
   "source": [
    "contentBased.get_recommendation(\"twinkie del mar\", 10, ContentBasedEnum.PRE_Content)"
   ]
  }
 ],
 "metadata": {
  "kernelspec": {
   "display_name": "universal",
   "language": "python",
   "name": "python3"
  },
  "language_info": {
   "codemirror_mode": {
    "name": "ipython",
    "version": 3
   },
   "file_extension": ".py",
   "mimetype": "text/x-python",
   "name": "python",
   "nbconvert_exporter": "python",
   "pygments_lexer": "ipython3",
   "version": "3.9.19"
  }
 },
 "nbformat": 4,
 "nbformat_minor": 2
}
