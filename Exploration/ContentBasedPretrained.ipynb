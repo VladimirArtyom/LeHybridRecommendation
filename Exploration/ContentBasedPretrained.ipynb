{
 "cells": [
  {
   "cell_type": "code",
   "execution_count": 5,
   "metadata": {},
   "outputs": [
    {
     "name": "stderr",
     "output_type": "stream",
     "text": [
      "/tmp/ipykernel_4512/1196465870.py:34: FutureWarning: Setting an item of incompatible dtype is deprecated and will raise an error in a future version of pandas. Value '[]' has dtype incompatible with float64, please explicitly cast to a compatible dtype first.\n",
      "  df_copy.fillna(\"[]\", inplace=True)\n"
     ]
    }
   ],
   "source": [
    "import pandas as pd\n",
    "import numpy as np \n",
    "from sentence_transformers import SentenceTransformer\n",
    "from sklearn.metrics.pairwise import cosine_similarity\n",
    "\n",
    "df = pd.read_csv(\"recipes_filtered.csv\")\n",
    "\n",
    "def cleanStr(x : str):\n",
    "    x = x.strip()\n",
    "    x = x.replace(\"'\",\"\")\n",
    "    x = x.replace('\"',\"\")\n",
    "    x.lower()\n",
    "    return x\n",
    "\n",
    "def cStrToList(x: str):\n",
    "    x = x[2:-1]\n",
    "    x = x.replace('\"', \"\" )\n",
    "    return [cleanStr(s) for s in x.split(',')]\n",
    "\n",
    "def listTostr(t):\n",
    "    mainStr: str = \"\"\n",
    "    for indx in range(len(t)):\n",
    "        mainStr += \" \" + t[indx].lower()\n",
    "    return mainStr\n",
    "def lower_case(t: str):\n",
    "    return t.lower()\n",
    "\n",
    "def mergeAuthorName(x: str):\n",
    "    x = x.lower()\n",
    "    return x.strip().replace(\" \", \"-\").replace(\".\",\"\")\n",
    "\n",
    "column_of_interest = [\"Name\",\"Description\", \"RecipeInstructions\", \"AuthorName\", \"Keywords\", \"RecipeCategory\", \"TotalTime\"]\n",
    "df_copy: pd.DataFrame = df.copy()\n",
    "df_copy.fillna(\"[]\", inplace=True)\n",
    "df_copy = df_copy[column_of_interest]\n",
    "df_copy[\"Name\"] = df_copy[\"Name\"].apply(lower_case)\n",
    "df_copy[\"Description\"] = df_copy[\"Description\"].apply(lower_case)\n",
    "df_copy[\"RecipeCategory\"] = df_copy[\"RecipeCategory\"].apply(lower_case)\n",
    "df_copy[\"TotalTime\"] = df_copy[\"TotalTime\"].apply(lower_case)\n",
    "df_copy[\"AuthorName\"] = df_copy[\"AuthorName\"].apply(mergeAuthorName)\n",
    "df_copy[\"RecipeInstructions\"] = df_copy[\"RecipeInstructions\"].apply(cStrToList).apply(listTostr)\n",
    "df_copy[\"Keywords\"] = df_copy[\"Keywords\"].apply(cStrToList).apply(listTostr)"
   ]
  },
  {
   "cell_type": "code",
   "execution_count": 2,
   "metadata": {},
   "outputs": [
    {
     "name": "stderr",
     "output_type": "stream",
     "text": [
      "/mnt/Dev_partition/anaconda3/envs/universal/lib/python3.9/site-packages/huggingface_hub/file_download.py:1132: FutureWarning: `resume_download` is deprecated and will be removed in version 1.0.0. Downloads always resume when possible. If you want to force a new download, use `force_download=True`.\n",
      "  warnings.warn(\n",
      "Batches: 100%|██████████| 298/298 [00:40<00:00,  7.39it/s]\n"
     ]
    }
   ],
   "source": [
    "df_copy[\"contents\"] = df_copy[\"Description\"] + df_copy[\"RecipeInstructions\"] \n",
    "x = np.array(df_copy[\"contents\"])\n"
   ]
  },
  {
   "cell_type": "code",
   "execution_count": 8,
   "metadata": {},
   "outputs": [
    {
     "name": "stderr",
     "output_type": "stream",
     "text": [
      "/mnt/Dev_partition/anaconda3/envs/universal/lib/python3.9/site-packages/huggingface_hub/file_download.py:1132: FutureWarning: `resume_download` is deprecated and will be removed in version 1.0.0. Downloads always resume when possible. If you want to force a new download, use `force_download=True`.\n",
      "  warnings.warn(\n",
      "Batches: 100%|██████████| 298/298 [00:36<00:00,  8.17it/s]\n"
     ]
    }
   ],
   "source": [
    "model = SentenceTransformer(\"all-MiniLM-L12-v2\")\n",
    "embeddings = model.encode(x, show_progress_bar=True)\n",
    "cp_embedding = np.array(embeddings)\n",
    "similarity_embedding = cosine_similarity(cp_embedding, cp_embedding)"
   ]
  },
  {
   "cell_type": "code",
   "execution_count": 7,
   "metadata": {},
   "outputs": [],
   "source": []
  },
  {
   "cell_type": "code",
   "execution_count": null,
   "metadata": {},
   "outputs": [],
   "source": []
  }
 ],
 "metadata": {
  "kernelspec": {
   "display_name": "universal",
   "language": "python",
   "name": "python3"
  },
  "language_info": {
   "codemirror_mode": {
    "name": "ipython",
    "version": 3
   },
   "file_extension": ".py",
   "mimetype": "text/x-python",
   "name": "python",
   "nbconvert_exporter": "python",
   "pygments_lexer": "ipython3",
   "version": "3.9.19"
  }
 },
 "nbformat": 4,
 "nbformat_minor": 2
}
